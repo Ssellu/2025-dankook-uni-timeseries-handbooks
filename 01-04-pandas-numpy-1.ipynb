{
 "cells": [
  {
   "cell_type": "markdown",
   "id": "bea12ddd",
   "metadata": {},
   "source": [
    "# pd.DataFrame 실습"
   ]
  },
  {
   "cell_type": "markdown",
   "id": "93ce0b89",
   "metadata": {},
   "source": [
    "## 0. 실습 준비"
   ]
  },
  {
   "cell_type": "markdown",
   "id": "46c576b7",
   "metadata": {},
   "source": [
    "### 라이브러리 설치"
   ]
  },
  {
   "cell_type": "code",
   "execution_count": null,
   "id": "c5bfa82a",
   "metadata": {},
   "outputs": [],
   "source": [
    "%pip install pandas numpy matplotlib seaborn"
   ]
  },
  {
   "cell_type": "markdown",
   "id": "cad2d7fe",
   "metadata": {},
   "source": [
    "#### import "
   ]
  },
  {
   "cell_type": "code",
   "execution_count": 2,
   "id": "ddf2bd54",
   "metadata": {},
   "outputs": [],
   "source": [
    "import pandas as pd\n",
    "import numpy as np"
   ]
  },
  {
   "cell_type": "markdown",
   "id": "d1784f3a",
   "metadata": {},
   "source": [
    "## 1. Pandas.DataFrame\n",
    "- 표(테이블) 형태의 데이터를 다루기 위한 Pandas의 2차원 자료구조\n",
    "- 행(row)과 열(column)로 구성되어 있으며, 각 열마다 서로 다른 데이터 타입(숫자, 문자열 등)을 가질 수 있음\n",
    "- 레이블(라벨) 지원: 각 행과 열에 인덱스(이름 또는 번호)를 붙일 수 있어 데이터 접근과 조작이 편리함 (dict-like)\n",
    "- 다양한 생성 방법: list, dict, Numpy.NDArray, 다른 DataFrame 등 다양한 형태의 데이터를 이용해 생성 가능\n",
    "- 다양한 데이터 타입: 각 열마다 서로 다른 타입의 데이터를 저장할 수 있음\n",
    "- 데이터 조작 및 분석 기능: 필터링, 정렬, 집계, 결측치 처리, 파일 입출력 등 다양한 데이터 처리 메서드를 제공\n",
    "- 확장성: 크기가 자유롭게 변할 수 있으며, 새로운 행/열 추가 및 삭제가 쉬움\n",
    "### 1. DataFrame 생성"
   ]
  },
  {
   "cell_type": "code",
   "execution_count": 4,
   "id": "3807860f",
   "metadata": {},
   "outputs": [
    {
     "data": {
      "text/html": [
       "<div>\n",
       "<style scoped>\n",
       "    .dataframe tbody tr th:only-of-type {\n",
       "        vertical-align: middle;\n",
       "    }\n",
       "\n",
       "    .dataframe tbody tr th {\n",
       "        vertical-align: top;\n",
       "    }\n",
       "\n",
       "    .dataframe thead th {\n",
       "        text-align: right;\n",
       "    }\n",
       "</style>\n",
       "<table border=\"1\" class=\"dataframe\">\n",
       "  <thead>\n",
       "    <tr style=\"text-align: right;\">\n",
       "      <th></th>\n",
       "      <th>A</th>\n",
       "      <th>B</th>\n",
       "      <th>C</th>\n",
       "    </tr>\n",
       "  </thead>\n",
       "  <tbody>\n",
       "    <tr>\n",
       "      <th>0</th>\n",
       "      <td>1</td>\n",
       "      <td>2</td>\n",
       "      <td>3</td>\n",
       "    </tr>\n",
       "    <tr>\n",
       "      <th>1</th>\n",
       "      <td>4</td>\n",
       "      <td>5</td>\n",
       "      <td>6</td>\n",
       "    </tr>\n",
       "  </tbody>\n",
       "</table>\n",
       "</div>"
      ],
      "text/plain": [
       "   A  B  C\n",
       "0  1  2  3\n",
       "1  4  5  6"
      ]
     },
     "execution_count": 4,
     "metadata": {},
     "output_type": "execute_result"
    }
   ],
   "source": [
    "# 리스트를 활용한 DataFrame 생성\n",
    "df_list = pd.DataFrame([[1, 2, 3], [4, 5, 6]], columns=['A', 'B', 'C'])\n",
    "df_list"
   ]
  },
  {
   "cell_type": "code",
   "execution_count": 6,
   "id": "e61866ea",
   "metadata": {},
   "outputs": [
    {
     "data": {
      "text/html": [
       "<div>\n",
       "<style scoped>\n",
       "    .dataframe tbody tr th:only-of-type {\n",
       "        vertical-align: middle;\n",
       "    }\n",
       "\n",
       "    .dataframe tbody tr th {\n",
       "        vertical-align: top;\n",
       "    }\n",
       "\n",
       "    .dataframe thead th {\n",
       "        text-align: right;\n",
       "    }\n",
       "</style>\n",
       "<table border=\"1\" class=\"dataframe\">\n",
       "  <thead>\n",
       "    <tr style=\"text-align: right;\">\n",
       "      <th></th>\n",
       "      <th>Name</th>\n",
       "      <th>Age</th>\n",
       "      <th>Score</th>\n",
       "    </tr>\n",
       "  </thead>\n",
       "  <tbody>\n",
       "    <tr>\n",
       "      <th>0</th>\n",
       "      <td>Alice</td>\n",
       "      <td>25</td>\n",
       "      <td>88.5</td>\n",
       "    </tr>\n",
       "    <tr>\n",
       "      <th>1</th>\n",
       "      <td>Bob</td>\n",
       "      <td>30</td>\n",
       "      <td>92.3</td>\n",
       "    </tr>\n",
       "  </tbody>\n",
       "</table>\n",
       "</div>"
      ],
      "text/plain": [
       "    Name  Age  Score\n",
       "0  Alice   25   88.5\n",
       "1    Bob   30   92.3"
      ]
     },
     "execution_count": 6,
     "metadata": {},
     "output_type": "execute_result"
    }
   ],
   "source": [
    "# 딕셔너리를 활용한 DataFrame 생성\n",
    "df_dict = pd.DataFrame({'Name': ['Alice', 'Bob'], 'Age': [25, 30], 'Score': [88.5, 92.3]})\n",
    "df_dict"
   ]
  },
  {
   "cell_type": "code",
   "execution_count": 21,
   "id": "4c2e219f",
   "metadata": {},
   "outputs": [
    {
     "name": "stdout",
     "output_type": "stream",
     "text": [
      "0    10\n",
      "1    30\n",
      "Name: 0, dtype: int32\n",
      "0    10\n",
      "1    30\n",
      "Name: X, dtype: int32\n"
     ]
    }
   ],
   "source": [
    "# Numpy 배열을 활용한 DataFrame 생성\n",
    "arr = np.array([[10, 20], [30, 40]])\n",
    "df_np = pd.DataFrame(arr)\n",
    "print(df_np[0])  \n",
    "\n",
    "arr = np.array([[10, 20], [30, 40]])\n",
    "df_np = pd.DataFrame(arr, columns=['X', 'Y'])\n",
    "print(df_np['X'])  "
   ]
  },
  {
   "cell_type": "code",
   "execution_count": null,
   "id": "663a73ca",
   "metadata": {},
   "outputs": [
    {
     "name": "stdout",
     "output_type": "stream",
     "text": [
      "    Name  Age  Score\n",
      "0  Alice   25   88.5\n",
      "1    Bob   30   92.3\n",
      "    Name  Age  Score\n",
      "0  Alice   26   88.5\n",
      "1    Bob   31   92.3\n",
      "    Name  Age  Score\n",
      "0  Alice   25   88.5\n",
      "1    Bob   30   92.3\n"
     ]
    }
   ],
   "source": [
    "# 다른 DataFrame을 복사(clone)하여 DataFrame 생성\n",
    "df_copy = pd.DataFrame(df_dict)\n",
    "print(df_copy)\n",
    "df_copy['Age'] = df_copy['Age'] + 1  # Age 컬럼을 1 증가시킴\n",
    "print(df_copy)  # 복사된 DataFrame은 원본과 독립적임\n",
    "print(df_dict)  # 원본 DataFrame은 변경되지 않음"
   ]
  },
  {
   "cell_type": "code",
   "execution_count": 12,
   "id": "e796952f",
   "metadata": {},
   "outputs": [
    {
     "data": {
      "text/html": [
       "<div>\n",
       "<style scoped>\n",
       "    .dataframe tbody tr th:only-of-type {\n",
       "        vertical-align: middle;\n",
       "    }\n",
       "\n",
       "    .dataframe tbody tr th {\n",
       "        vertical-align: top;\n",
       "    }\n",
       "\n",
       "    .dataframe thead th {\n",
       "        text-align: right;\n",
       "    }\n",
       "</style>\n",
       "<table border=\"1\" class=\"dataframe\">\n",
       "  <thead>\n",
       "    <tr style=\"text-align: right;\">\n",
       "      <th></th>\n",
       "      <th>Date Time</th>\n",
       "      <th>p (mbar)</th>\n",
       "      <th>T (degC)</th>\n",
       "      <th>Tpot (K)</th>\n",
       "      <th>Tdew (degC)</th>\n",
       "      <th>rh (%)</th>\n",
       "      <th>VPmax (mbar)</th>\n",
       "      <th>VPact (mbar)</th>\n",
       "      <th>VPdef (mbar)</th>\n",
       "      <th>sh (g/kg)</th>\n",
       "      <th>H2OC (mmol/mol)</th>\n",
       "      <th>rho (g/m**3)</th>\n",
       "      <th>wv (m/s)</th>\n",
       "      <th>max. wv (m/s)</th>\n",
       "      <th>wd (deg)</th>\n",
       "    </tr>\n",
       "  </thead>\n",
       "  <tbody>\n",
       "    <tr>\n",
       "      <th>0</th>\n",
       "      <td>01.01.2009 00:10:00</td>\n",
       "      <td>996.52</td>\n",
       "      <td>-8.02</td>\n",
       "      <td>265.40</td>\n",
       "      <td>-8.90</td>\n",
       "      <td>93.3</td>\n",
       "      <td>3.33</td>\n",
       "      <td>3.11</td>\n",
       "      <td>0.22</td>\n",
       "      <td>1.94</td>\n",
       "      <td>3.12</td>\n",
       "      <td>1307.75</td>\n",
       "      <td>1.03</td>\n",
       "      <td>1.75</td>\n",
       "      <td>152.3</td>\n",
       "    </tr>\n",
       "    <tr>\n",
       "      <th>1</th>\n",
       "      <td>01.01.2009 00:20:00</td>\n",
       "      <td>996.57</td>\n",
       "      <td>-8.41</td>\n",
       "      <td>265.01</td>\n",
       "      <td>-9.28</td>\n",
       "      <td>93.4</td>\n",
       "      <td>3.23</td>\n",
       "      <td>3.02</td>\n",
       "      <td>0.21</td>\n",
       "      <td>1.89</td>\n",
       "      <td>3.03</td>\n",
       "      <td>1309.80</td>\n",
       "      <td>0.72</td>\n",
       "      <td>1.50</td>\n",
       "      <td>136.1</td>\n",
       "    </tr>\n",
       "    <tr>\n",
       "      <th>2</th>\n",
       "      <td>01.01.2009 00:30:00</td>\n",
       "      <td>996.53</td>\n",
       "      <td>-8.51</td>\n",
       "      <td>264.91</td>\n",
       "      <td>-9.31</td>\n",
       "      <td>93.9</td>\n",
       "      <td>3.21</td>\n",
       "      <td>3.01</td>\n",
       "      <td>0.20</td>\n",
       "      <td>1.88</td>\n",
       "      <td>3.02</td>\n",
       "      <td>1310.24</td>\n",
       "      <td>0.19</td>\n",
       "      <td>0.63</td>\n",
       "      <td>171.6</td>\n",
       "    </tr>\n",
       "    <tr>\n",
       "      <th>3</th>\n",
       "      <td>01.01.2009 00:40:00</td>\n",
       "      <td>996.51</td>\n",
       "      <td>-8.31</td>\n",
       "      <td>265.12</td>\n",
       "      <td>-9.07</td>\n",
       "      <td>94.2</td>\n",
       "      <td>3.26</td>\n",
       "      <td>3.07</td>\n",
       "      <td>0.19</td>\n",
       "      <td>1.92</td>\n",
       "      <td>3.08</td>\n",
       "      <td>1309.19</td>\n",
       "      <td>0.34</td>\n",
       "      <td>0.50</td>\n",
       "      <td>198.0</td>\n",
       "    </tr>\n",
       "    <tr>\n",
       "      <th>4</th>\n",
       "      <td>01.01.2009 00:50:00</td>\n",
       "      <td>996.51</td>\n",
       "      <td>-8.27</td>\n",
       "      <td>265.15</td>\n",
       "      <td>-9.04</td>\n",
       "      <td>94.1</td>\n",
       "      <td>3.27</td>\n",
       "      <td>3.08</td>\n",
       "      <td>0.19</td>\n",
       "      <td>1.92</td>\n",
       "      <td>3.09</td>\n",
       "      <td>1309.00</td>\n",
       "      <td>0.32</td>\n",
       "      <td>0.63</td>\n",
       "      <td>214.3</td>\n",
       "    </tr>\n",
       "    <tr>\n",
       "      <th>5</th>\n",
       "      <td>01.01.2009 01:00:00</td>\n",
       "      <td>996.50</td>\n",
       "      <td>-8.05</td>\n",
       "      <td>265.38</td>\n",
       "      <td>-8.78</td>\n",
       "      <td>94.4</td>\n",
       "      <td>3.33</td>\n",
       "      <td>3.14</td>\n",
       "      <td>0.19</td>\n",
       "      <td>1.96</td>\n",
       "      <td>3.15</td>\n",
       "      <td>1307.86</td>\n",
       "      <td>0.21</td>\n",
       "      <td>0.63</td>\n",
       "      <td>192.7</td>\n",
       "    </tr>\n",
       "    <tr>\n",
       "      <th>6</th>\n",
       "      <td>01.01.2009 01:10:00</td>\n",
       "      <td>996.50</td>\n",
       "      <td>-7.62</td>\n",
       "      <td>265.81</td>\n",
       "      <td>-8.30</td>\n",
       "      <td>94.8</td>\n",
       "      <td>3.44</td>\n",
       "      <td>3.26</td>\n",
       "      <td>0.18</td>\n",
       "      <td>2.04</td>\n",
       "      <td>3.27</td>\n",
       "      <td>1305.68</td>\n",
       "      <td>0.18</td>\n",
       "      <td>0.63</td>\n",
       "      <td>166.5</td>\n",
       "    </tr>\n",
       "    <tr>\n",
       "      <th>7</th>\n",
       "      <td>01.01.2009 01:20:00</td>\n",
       "      <td>996.50</td>\n",
       "      <td>-7.62</td>\n",
       "      <td>265.81</td>\n",
       "      <td>-8.36</td>\n",
       "      <td>94.4</td>\n",
       "      <td>3.44</td>\n",
       "      <td>3.25</td>\n",
       "      <td>0.19</td>\n",
       "      <td>2.03</td>\n",
       "      <td>3.26</td>\n",
       "      <td>1305.69</td>\n",
       "      <td>0.19</td>\n",
       "      <td>0.50</td>\n",
       "      <td>118.6</td>\n",
       "    </tr>\n",
       "    <tr>\n",
       "      <th>8</th>\n",
       "      <td>01.01.2009 01:30:00</td>\n",
       "      <td>996.50</td>\n",
       "      <td>-7.91</td>\n",
       "      <td>265.52</td>\n",
       "      <td>-8.73</td>\n",
       "      <td>93.8</td>\n",
       "      <td>3.36</td>\n",
       "      <td>3.15</td>\n",
       "      <td>0.21</td>\n",
       "      <td>1.97</td>\n",
       "      <td>3.16</td>\n",
       "      <td>1307.17</td>\n",
       "      <td>0.28</td>\n",
       "      <td>0.75</td>\n",
       "      <td>188.5</td>\n",
       "    </tr>\n",
       "    <tr>\n",
       "      <th>9</th>\n",
       "      <td>01.01.2009 01:40:00</td>\n",
       "      <td>996.53</td>\n",
       "      <td>-8.43</td>\n",
       "      <td>264.99</td>\n",
       "      <td>-9.34</td>\n",
       "      <td>93.1</td>\n",
       "      <td>3.23</td>\n",
       "      <td>3.00</td>\n",
       "      <td>0.22</td>\n",
       "      <td>1.88</td>\n",
       "      <td>3.02</td>\n",
       "      <td>1309.85</td>\n",
       "      <td>0.59</td>\n",
       "      <td>0.88</td>\n",
       "      <td>185.0</td>\n",
       "    </tr>\n",
       "  </tbody>\n",
       "</table>\n",
       "</div>"
      ],
      "text/plain": [
       "             Date Time  p (mbar)  T (degC)  Tpot (K)  Tdew (degC)  rh (%)  \\\n",
       "0  01.01.2009 00:10:00    996.52     -8.02    265.40        -8.90    93.3   \n",
       "1  01.01.2009 00:20:00    996.57     -8.41    265.01        -9.28    93.4   \n",
       "2  01.01.2009 00:30:00    996.53     -8.51    264.91        -9.31    93.9   \n",
       "3  01.01.2009 00:40:00    996.51     -8.31    265.12        -9.07    94.2   \n",
       "4  01.01.2009 00:50:00    996.51     -8.27    265.15        -9.04    94.1   \n",
       "5  01.01.2009 01:00:00    996.50     -8.05    265.38        -8.78    94.4   \n",
       "6  01.01.2009 01:10:00    996.50     -7.62    265.81        -8.30    94.8   \n",
       "7  01.01.2009 01:20:00    996.50     -7.62    265.81        -8.36    94.4   \n",
       "8  01.01.2009 01:30:00    996.50     -7.91    265.52        -8.73    93.8   \n",
       "9  01.01.2009 01:40:00    996.53     -8.43    264.99        -9.34    93.1   \n",
       "\n",
       "   VPmax (mbar)  VPact (mbar)  VPdef (mbar)  sh (g/kg)  H2OC (mmol/mol)  \\\n",
       "0          3.33          3.11          0.22       1.94             3.12   \n",
       "1          3.23          3.02          0.21       1.89             3.03   \n",
       "2          3.21          3.01          0.20       1.88             3.02   \n",
       "3          3.26          3.07          0.19       1.92             3.08   \n",
       "4          3.27          3.08          0.19       1.92             3.09   \n",
       "5          3.33          3.14          0.19       1.96             3.15   \n",
       "6          3.44          3.26          0.18       2.04             3.27   \n",
       "7          3.44          3.25          0.19       2.03             3.26   \n",
       "8          3.36          3.15          0.21       1.97             3.16   \n",
       "9          3.23          3.00          0.22       1.88             3.02   \n",
       "\n",
       "   rho (g/m**3)  wv (m/s)  max. wv (m/s)  wd (deg)  \n",
       "0       1307.75      1.03           1.75     152.3  \n",
       "1       1309.80      0.72           1.50     136.1  \n",
       "2       1310.24      0.19           0.63     171.6  \n",
       "3       1309.19      0.34           0.50     198.0  \n",
       "4       1309.00      0.32           0.63     214.3  \n",
       "5       1307.86      0.21           0.63     192.7  \n",
       "6       1305.68      0.18           0.63     166.5  \n",
       "7       1305.69      0.19           0.50     118.6  \n",
       "8       1307.17      0.28           0.75     188.5  \n",
       "9       1309.85      0.59           0.88     185.0  "
      ]
     },
     "execution_count": 12,
     "metadata": {},
     "output_type": "execute_result"
    }
   ],
   "source": [
    "# url을 통해 CSV 파일을 읽어 DataFrame 생성\n",
    "url = \"https://storage.googleapis.com/tensorflow/tf-keras-datasets/jena_climate_2009_2016.csv.zip\"\n",
    "\n",
    "df = pd.read_csv(url, compression='zip')\n",
    "df.head(10) # 처음 10개 행을 출력"
   ]
  },
  {
   "cell_type": "markdown",
   "id": "af522666",
   "metadata": {},
   "source": [
    "### 2. 다양한 데이터 타입"
   ]
  },
  {
   "cell_type": "code",
   "execution_count": 15,
   "id": "295315e3",
   "metadata": {},
   "outputs": [
    {
     "name": "stdout",
     "output_type": "stream",
     "text": [
      "Integer             int64\n",
      "Float             float64\n",
      "String             object\n",
      "Boolean              bool\n",
      "Date       datetime64[ns]\n",
      "dtype: object\n"
     ]
    },
    {
     "data": {
      "text/html": [
       "<div>\n",
       "<style scoped>\n",
       "    .dataframe tbody tr th:only-of-type {\n",
       "        vertical-align: middle;\n",
       "    }\n",
       "\n",
       "    .dataframe tbody tr th {\n",
       "        vertical-align: top;\n",
       "    }\n",
       "\n",
       "    .dataframe thead th {\n",
       "        text-align: right;\n",
       "    }\n",
       "</style>\n",
       "<table border=\"1\" class=\"dataframe\">\n",
       "  <thead>\n",
       "    <tr style=\"text-align: right;\">\n",
       "      <th></th>\n",
       "      <th>Integer</th>\n",
       "      <th>Float</th>\n",
       "      <th>String</th>\n",
       "      <th>Boolean</th>\n",
       "      <th>Date</th>\n",
       "    </tr>\n",
       "  </thead>\n",
       "  <tbody>\n",
       "    <tr>\n",
       "      <th>0</th>\n",
       "      <td>1</td>\n",
       "      <td>1.1</td>\n",
       "      <td>a</td>\n",
       "      <td>True</td>\n",
       "      <td>2023-01-01</td>\n",
       "    </tr>\n",
       "    <tr>\n",
       "      <th>1</th>\n",
       "      <td>2</td>\n",
       "      <td>2.2</td>\n",
       "      <td>b</td>\n",
       "      <td>False</td>\n",
       "      <td>2023-01-02</td>\n",
       "    </tr>\n",
       "    <tr>\n",
       "      <th>2</th>\n",
       "      <td>3</td>\n",
       "      <td>3.3</td>\n",
       "      <td>c</td>\n",
       "      <td>True</td>\n",
       "      <td>2023-01-03</td>\n",
       "    </tr>\n",
       "  </tbody>\n",
       "</table>\n",
       "</div>"
      ],
      "text/plain": [
       "   Integer  Float String  Boolean       Date\n",
       "0        1    1.1      a     True 2023-01-01\n",
       "1        2    2.2      b    False 2023-01-02\n",
       "2        3    3.3      c     True 2023-01-03"
      ]
     },
     "execution_count": 15,
     "metadata": {},
     "output_type": "execute_result"
    }
   ],
   "source": [
    "df_types = pd.DataFrame({\n",
    "    'Integer': [1, 2, 3],\n",
    "    'Float': [1.1, 2.2, 3.3],\n",
    "    'String': ['a', 'b', 'c'],\n",
    "    'Boolean': [True, False, True],\n",
    "    'Date': pd.to_datetime(['2023-01-01', '2023-01-02', '2023-01-03'])\n",
    "})\n",
    "print(df_types.dtypes)  # 각 컬럼의 데이터 타입 확인\n",
    "df_types"
   ]
  },
  {
   "cell_type": "markdown",
   "id": "bf3c397a",
   "metadata": {},
   "source": [
    "### 3. 레이블(라벨) 지원"
   ]
  },
  {
   "cell_type": "code",
   "execution_count": 8,
   "id": "ada3db16",
   "metadata": {},
   "outputs": [
    {
     "name": "stdout",
     "output_type": "stream",
     "text": [
      "      col1  col2\n",
      "row1    10    20\n",
      "row2    30    40\n",
      "Index(['row1', 'row2'], dtype='object')\n",
      "Index(['col1', 'col2'], dtype='object')\n",
      "col1    10\n",
      "col2    20\n",
      "Name: row1, dtype: int64\n",
      "row1    10\n",
      "row2    30\n",
      "Name: col1, dtype: int64\n",
      "col1    10\n",
      "col2    20\n",
      "Name: row1, dtype: int64\n",
      "row1    10\n",
      "row2    30\n",
      "Name: col1, dtype: int64\n"
     ]
    }
   ],
   "source": [
    "df_labels = pd.DataFrame(\n",
    "    data=[[10, 20], [30, 40]],\n",
    "    index=['row1', 'row2'],\n",
    "    columns=['col1', 'col2']\n",
    ")\n",
    "print(df_labels)\n",
    "print(df_labels.index)  # 인덱스 확인\n",
    "print(df_labels.columns)  # 컬럼 확인   \n",
    "print(df_labels.loc['row1'])  # 특정 행 선택\n",
    "print(df_labels['col1'])  # 특정 열 선택\n",
    "print(df_labels.iloc[0])  # 첫 번째 행 선택\n",
    "print(df_labels.iloc[:, 0])  # 첫 번째 열 선택"
   ]
  },
  {
   "cell_type": "markdown",
   "id": "c27be665",
   "metadata": {},
   "source": [
    "### 4. 데이터 조작 및 분석 기능"
   ]
  },
  {
   "cell_type": "code",
   "execution_count": 30,
   "id": "a64fb9fa",
   "metadata": {},
   "outputs": [
    {
     "name": "stdout",
     "output_type": "stream",
     "text": [
      "    Name  Age  Score\n",
      "0  Alice   25   88.5\n",
      "1    Bob   30   92.3\n",
      "  Name  Age  Score\n",
      "1  Bob   30   92.3\n",
      "  Name  Age  Score\n",
      "1  Bob   30   92.3\n"
     ]
    }
   ],
   "source": [
    "# 필터링\n",
    "filtered = df_dict[df_dict['Age'] > 25]\n",
    "print(df_dict)\n",
    "print(filtered)  # Age가 25보다 큰 행만 출력\n",
    "\n",
    "filtered = df_dict[(df_dict['Age'] > 25) & (df_dict['Score'] > 90)]\n",
    "print(filtered)  # Age가 25보다 크고 Score가 90보다 큰 행만 출력"
   ]
  },
  {
   "cell_type": "markdown",
   "id": "e21727c5",
   "metadata": {},
   "source": [
    "#### 인덱싱 - loc(), iloc()"
   ]
  },
  {
   "cell_type": "code",
   "execution_count": 10,
   "id": "505c7aa2",
   "metadata": {},
   "outputs": [
    {
     "name": "stdout",
     "output_type": "stream",
     "text": [
      "      A  B  C\n",
      "row1  1  4  7\n",
      "row2  2  5  8\n",
      "row3  3  6  9\n",
      "A    1\n",
      "B    4\n",
      "C    7\n",
      "Name: row1, dtype: int64\n",
      "row1    1\n",
      "row2    2\n",
      "row3    3\n",
      "Name: A, dtype: int64\n",
      "1\n",
      "      A  B\n",
      "row1  1  4\n",
      "row2  2  5\n"
     ]
    }
   ],
   "source": [
    "# loc, iloc 사용법\n",
    "# loc: 라벨 기반 인덱싱\n",
    "# iloc: 정수 기반 인덱싱\n",
    "import pandas as pd\n",
    "\n",
    "# 예제 DataFrame\n",
    "df = pd.DataFrame({\n",
    "    'A': [1, 2, 3],\n",
    "    'B': [4, 5, 6],\n",
    "    'C': [7, 8, 9]\n",
    "}, index=['row1', 'row2', 'row3'])\n",
    "print(df)\n",
    "\n",
    "# 특정 행 선택 (라벨 기반)\n",
    "print(df.loc['row1'])  # row1 행 선택\n",
    "\n",
    "# 특정 열 선택\n",
    "print(df.loc[:, 'A'])  # A 열 선택\n",
    "\n",
    "# 특정 행과 열 선택\n",
    "print(df.loc['row1', 'A'])  # row1 행의 A 열 선택\n",
    "\n",
    "# 슬라이싱\n",
    "print(df.loc['row1':'row2', 'A':'B'])  # row1~row2, A~B 열 선택"
   ]
  },
  {
   "cell_type": "code",
   "execution_count": 15,
   "id": "e15b000b",
   "metadata": {},
   "outputs": [
    {
     "name": "stdout",
     "output_type": "stream",
     "text": [
      "      A  B  C\n",
      "row1  1  4  7\n",
      "row2  2  5  8\n",
      "row3  3  6  9\n",
      "A    1\n",
      "B    4\n",
      "C    7\n",
      "Name: row1, dtype: int64\n",
      "(3,)\n",
      "row1    1\n",
      "row2    2\n",
      "row3    3\n",
      "Name: A, dtype: int64\n",
      "(3,)\n",
      "1\n",
      "()\n",
      "      A  B\n",
      "row1  1  4\n",
      "row2  2  5\n",
      "(2, 2)\n"
     ]
    }
   ],
   "source": [
    "print(df)\n",
    "\n",
    "# 특정 행 선택 (정수 인덱스 기반)\n",
    "print(df.iloc[0])  # 첫 번째 행 선택\n",
    "print(df.iloc[0].shape)\n",
    "\n",
    "# 특정 열 선택\n",
    "print(df.iloc[:, 0])  # 첫 번째 열 선택\n",
    "print(df.iloc[:, 0].shape)\n",
    "\n",
    "# 특정 행과 열 선택\n",
    "print(df.iloc[0, 0])  # 첫 번째 행의 첫 번째 열 선택\n",
    "print(df.iloc[0, 0].shape)\n",
    "# 슬라이싱\n",
    "print(df.iloc[0:2, 0:2])  # 0~1번째 행, 0~1번째 열 선택\n",
    "print(df.iloc[0:2, 0:2].shape) "
   ]
  },
  {
   "cell_type": "markdown",
   "id": "17b9a5e7",
   "metadata": {},
   "source": [
    "#### 조건부 필터링"
   ]
  },
  {
   "cell_type": "code",
   "execution_count": 33,
   "id": "8d7201be",
   "metadata": {},
   "outputs": [
    {
     "name": "stdout",
     "output_type": "stream",
     "text": [
      "    Name  Age  Score\n",
      "1    Bob   30   92.3\n",
      "0  Alice   25   88.5\n",
      "    Name  Age  Score\n",
      "1    Bob   30   92.3\n",
      "0  Alice   25   88.5\n",
      "    Name  Age  Score\n",
      "0    Bob   30   92.3\n",
      "1  Alice   25   88.5\n"
     ]
    }
   ],
   "source": [
    "# 정렬\n",
    "sorted_df = df_dict.sort_values(by='Score', ascending=False)\n",
    "print(sorted_df)  # Score를 기준으로 내림차순 정렬된 DataFrame 출력\n",
    "\n",
    "sorted_df = df_dict.sort_values(by=['Score', 'Age'], ascending=[False, True])\n",
    "print(sorted_df)  # Score를 기준으로 내림차순, Age를 기준으로 오름차순 정렬된 DataFrame 출력\n",
    "\n",
    "# 인덱스 초기화\n",
    "sorted_df = sorted_df.reset_index(drop=True)  # drop=True는 기존 인덱스를 삭제\n",
    "print(sorted_df)  # 인덱스 초기화된 DataFrame 출력"
   ]
  },
  {
   "cell_type": "markdown",
   "id": "e706400f",
   "metadata": {},
   "source": [
    "#### 통계"
   ]
  },
  {
   "cell_type": "code",
   "execution_count": 34,
   "id": "dc57f162",
   "metadata": {},
   "outputs": [
    {
     "data": {
      "text/html": [
       "<div>\n",
       "<style scoped>\n",
       "    .dataframe tbody tr th:only-of-type {\n",
       "        vertical-align: middle;\n",
       "    }\n",
       "\n",
       "    .dataframe tbody tr th {\n",
       "        vertical-align: top;\n",
       "    }\n",
       "\n",
       "    .dataframe thead th {\n",
       "        text-align: right;\n",
       "    }\n",
       "</style>\n",
       "<table border=\"1\" class=\"dataframe\">\n",
       "  <thead>\n",
       "    <tr style=\"text-align: right;\">\n",
       "      <th></th>\n",
       "      <th>Age</th>\n",
       "      <th>Score</th>\n",
       "    </tr>\n",
       "    <tr>\n",
       "      <th>Name</th>\n",
       "      <th></th>\n",
       "      <th></th>\n",
       "    </tr>\n",
       "  </thead>\n",
       "  <tbody>\n",
       "    <tr>\n",
       "      <th>Alice</th>\n",
       "      <td>25.0</td>\n",
       "      <td>88.5</td>\n",
       "    </tr>\n",
       "    <tr>\n",
       "      <th>Bob</th>\n",
       "      <td>30.0</td>\n",
       "      <td>92.3</td>\n",
       "    </tr>\n",
       "  </tbody>\n",
       "</table>\n",
       "</div>"
      ],
      "text/plain": [
       "        Age  Score\n",
       "Name              \n",
       "Alice  25.0   88.5\n",
       "Bob    30.0   92.3"
      ]
     },
     "execution_count": 34,
     "metadata": {},
     "output_type": "execute_result"
    }
   ],
   "source": [
    "# 집계\n",
    "agg_df = df_dict.groupby('Name').agg({'Age': 'mean', 'Score': 'sum'})\n",
    "agg_df"
   ]
  },
  {
   "cell_type": "code",
   "execution_count": 36,
   "id": "54b95217",
   "metadata": {},
   "outputs": [
    {
     "name": "stdout",
     "output_type": "stream",
     "text": [
      "             Age      Score\n",
      "count   2.000000   2.000000\n",
      "mean   27.500000  90.400000\n",
      "std     3.535534   2.687006\n",
      "min    25.000000  88.500000\n",
      "25%    26.250000  89.450000\n",
      "50%    27.500000  90.400000\n",
      "75%    28.750000  91.350000\n",
      "max    30.000000  92.300000\n",
      "27.5\n"
     ]
    }
   ],
   "source": [
    "# 단일 통계\n",
    "df_stats = df_dict.describe()  # 기본 통계량 계산\n",
    "print(df_stats)  # 기본 통계량 출력\n",
    "\n",
    "mean_age = df_dict['Age'].mean() # 단일 컬럼 계산\n",
    "print(mean_age)  # 평균 나이 출력"
   ]
  },
  {
   "cell_type": "markdown",
   "id": "3c1574eb",
   "metadata": {},
   "source": [
    "#### 결측치 처리"
   ]
  },
  {
   "cell_type": "code",
   "execution_count": 37,
   "id": "4332452f",
   "metadata": {},
   "outputs": [
    {
     "data": {
      "text/html": [
       "<div>\n",
       "<style scoped>\n",
       "    .dataframe tbody tr th:only-of-type {\n",
       "        vertical-align: middle;\n",
       "    }\n",
       "\n",
       "    .dataframe tbody tr th {\n",
       "        vertical-align: top;\n",
       "    }\n",
       "\n",
       "    .dataframe thead th {\n",
       "        text-align: right;\n",
       "    }\n",
       "</style>\n",
       "<table border=\"1\" class=\"dataframe\">\n",
       "  <thead>\n",
       "    <tr style=\"text-align: right;\">\n",
       "      <th></th>\n",
       "      <th>A</th>\n",
       "      <th>B</th>\n",
       "    </tr>\n",
       "  </thead>\n",
       "  <tbody>\n",
       "    <tr>\n",
       "      <th>0</th>\n",
       "      <td>1.0</td>\n",
       "      <td>4.0</td>\n",
       "    </tr>\n",
       "    <tr>\n",
       "      <th>1</th>\n",
       "      <td>0.0</td>\n",
       "      <td>5.0</td>\n",
       "    </tr>\n",
       "    <tr>\n",
       "      <th>2</th>\n",
       "      <td>3.0</td>\n",
       "      <td>0.0</td>\n",
       "    </tr>\n",
       "  </tbody>\n",
       "</table>\n",
       "</div>"
      ],
      "text/plain": [
       "     A    B\n",
       "0  1.0  4.0\n",
       "1  0.0  5.0\n",
       "2  3.0  0.0"
      ]
     },
     "execution_count": 37,
     "metadata": {},
     "output_type": "execute_result"
    }
   ],
   "source": [
    "# 결측치 처리\n",
    "df_missing = pd.DataFrame({'A': [1, None, 3], 'B': [4, 5, None]})\n",
    "df_missing_filled = df_missing.fillna(0)\n",
    "df_missing_filled"
   ]
  },
  {
   "cell_type": "code",
   "execution_count": 42,
   "id": "32cf40f1",
   "metadata": {},
   "outputs": [
    {
     "name": "stdout",
     "output_type": "stream",
     "text": [
      "     A    B\n",
      "0  1.0  4.0\n",
      "1  2.0  5.0\n",
      "2  3.0  5.0\n",
      "     A    B\n",
      "0  1.0  4.0\n",
      "1  1.0  5.0\n",
      "2  3.0  5.0\n",
      "     A    B\n",
      "0  1.0  4.0\n",
      "1  3.0  5.0\n",
      "2  3.0  NaN\n",
      "     A    B\n",
      "0  1.0  4.0\n"
     ]
    }
   ],
   "source": [
    "# 결측치 보간\n",
    "df_missing_interpolated = df_missing.interpolate(method='linear')\n",
    "print(df_missing_interpolated)\n",
    "\n",
    "filled_ffill = df_missing.ffill()  \n",
    "print(filled_ffill)  # 앞의 값으로 결측치 채우기\n",
    "\n",
    "filled_bfill = df_missing.bfill() \n",
    "print(filled_bfill)  # 뒤의 값으로 결측치 채우기\n",
    "\n",
    "# 결측치 삭제\n",
    "df_missing_dropped = df_missing.dropna()    \n",
    "print(df_missing_dropped) "
   ]
  },
  {
   "cell_type": "markdown",
   "id": "a0b760cf",
   "metadata": {},
   "source": [
    "#### 파일 입출력"
   ]
  },
  {
   "cell_type": "code",
   "execution_count": null,
   "id": "6854200c",
   "metadata": {},
   "outputs": [],
   "source": [
    "# 파일 입출력\n",
    "df_dict.to_csv('sample.csv', index=False)"
   ]
  },
  {
   "cell_type": "markdown",
   "id": "0633e2f9",
   "metadata": {},
   "source": [
    "### 5. 확장성 (행/열 추가 및 삭제)\n",
    "\n",
    "- **행 추가**\n",
    "  ```python\n",
    "  new_row = {'Name': 'Charlie', 'Age': 28, 'Score': 85.0}\n",
    "  df_expanded = df_dict.append(new_row, ignore_index=True)\n",
    "  ```\n",
    "\n",
    "- **열 추가**\n",
    "  ```python\n",
    "  df_expanded['Passed'] = df_expanded['Score'] > 90\n",
    "  ```\n",
    "\n",
    "- **행 삭제**\n",
    "  ```python\n",
    "  df_expanded_dropped = df_expanded.drop(0)  # 첫 번째 행 삭제\n",
    "  ```\n",
    "\n",
    "- **열 삭제**\n",
    "  ```python\n",
    "  df_expanded_dropped = df_expanded_dropped.drop('Passed', axis=1)\n",
    "  ```"
   ]
  },
  {
   "cell_type": "markdown",
   "id": "e0085301",
   "metadata": {},
   "source": [
    "#### 실습 데이터: Jena 기후 데이터\n",
    "- 특징: 온도, 기압, 습도 등 14개 센서 데이터 (10분 간격, 2009-2016년)\n",
    "- 용량: 약 420,000행 (CSV 135MB)\n",
    "- 적합성: 다변량 분석에 최적화된 구조"
   ]
  },
  {
   "cell_type": "code",
   "execution_count": null,
   "id": "7b742a5f",
   "metadata": {},
   "outputs": [],
   "source": [
    "url = \"https://storage.googleapis.com/tensorflow/tf-keras-datasets/jena_climate_2009_2016.csv.zip\"\n",
    "\n",
    "df = pd.read_csv(url, compression='zip')\n",
    "# df = df[5::6]  # 10분→1시간 단위 변환\n",
    "df['Date Time'] = pd.to_datetime(df['Date Time'], format='%d.%m.%Y %H:%M:%S')\n",
    "\n",
    "# To-do \n",
    "# 1. read한 원본 DataFrame을 확인합니다.\n",
    "# 2. df의 컬럼을 확인하고, 필요한 컬럼만 선택하여 새로운 DataFrame을 생성합니다.\n",
    "# 3. 선택한 DataFrame에서 결측치를 처리합니다.\n",
    "# 4. 선택한 DataFrame에서 특정 컬럼의 통계량을 계산합니다.\n",
    "# 5. 선택한 DataFrame을 기간별 CSV 파일로 저장합니다. \n",
    "#   - 최신순 10분 단위 200개 컬럼\n",
    "#   - 최신순 1시간 단위 200개 컬럼\n",
    "#   - 최신순 1일 단위 200개 컬럼"
   ]
  }
 ],
 "metadata": {
  "kernelspec": {
   "display_name": "Python 3",
   "language": "python",
   "name": "python3"
  },
  "language_info": {
   "codemirror_mode": {
    "name": "ipython",
    "version": 3
   },
   "file_extension": ".py",
   "mimetype": "text/x-python",
   "name": "python",
   "nbconvert_exporter": "python",
   "pygments_lexer": "ipython3",
   "version": "3.10.6"
  }
 },
 "nbformat": 4,
 "nbformat_minor": 5
}
