{
 "cells": [
  {
   "cell_type": "markdown",
   "id": "18387c2a",
   "metadata": {},
   "source": [
    "# 시계열 주요 성능평가 지표 - RMSE, MAE, SMAPE\n",
    "\n",
    "1. **RMSE (Root Mean Squared Error)**  \n",
    "    - RMSE는 예측값과 실제값 간의 차이를 제곱한 후 평균을 구하고, 그 결과에 제곱근을 취한 값\n",
    "    - 값이 작을수록 모델의 예측이 실제값에 가까움을 의미\n",
    "    - 이상치(outlier)에 민감하며, 오차의 크기를 강조\n",
    "    - 계산식:  \n",
    "      $$\n",
    "      RMSE = \\sqrt{\\frac{1}{n} \\sum_{i=1}^{n} (y_i - \\hat{y}_i)^2}\n",
    "      $$  \n",
    "      여기서 $y_i$는 실제값, $\\hat{y}_i$는 예측값, $n$은 데이터의 개수\n",
    "\n",
    "2. **MAE (Mean Absolute Error)**  \n",
    "    - MAE는 예측값과 실제값 간의 절대 오차의 평균\n",
    "    - 값이 작을수록 모델의 예측이 실제값에 가까움\n",
    "    - RSME보다 이상치에 덜 민감하며, 오차의 크기를 균등하게 반영\n",
    "    - 계산식:  \n",
    "      $$\n",
    "      MAE = \\frac{1}{n} \\sum_{i=1}^{n} |y_i - \\hat{y}_i|\n",
    "      $$\n",
    "\n",
    "3. **SMAPE (Symmetric Mean Absolute Percentage Error)**  \n",
    "    - SMAPE는 예측값과 실제값 간의 상대적 오차를 백분율로 나타낸 지표\n",
    "    - 값이 작을수록 모델의 예측이 실제값에 가까움을 의미\n",
    "    - 예측값과 실제값의 크기가 모두 고려되며, 값의 범위가 0%에서 100%로 제한\n",
    "    - 계산식:  \n",
    "      $$\n",
    "      SMAPE = \\frac{100\\%}{n} \\sum_{i=1}^{n} \\frac{|y_i - \\hat{y}_i|}{(|y_i| + |\\hat{y}_i|)/2}\n",
    "      $$\n",
    "    - SMAPE는 값이 0에 가까운 경우 분모가 작아져 계산이 불안정할 수 있으므로 주의가 필요"
   ]
  }
 ],
 "metadata": {
  "language_info": {
   "name": "python"
  }
 },
 "nbformat": 4,
 "nbformat_minor": 5
}
